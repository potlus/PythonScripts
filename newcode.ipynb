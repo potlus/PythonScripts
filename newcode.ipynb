{
 "cells": [
  {
   "cell_type": "code",
   "execution_count": 46,
   "metadata": {},
   "outputs": [],
   "source": [
    "import pandas as pd"
   ]
  },
  {
   "cell_type": "code",
   "execution_count": 47,
   "metadata": {},
   "outputs": [],
   "source": [
    "from unidecode import unidecode"
   ]
  },
  {
   "cell_type": "code",
   "execution_count": 48,
   "metadata": {},
   "outputs": [],
   "source": [
    "#import app_config as ac"
   ]
  },
  {
   "cell_type": "code",
   "execution_count": 49,
   "metadata": {},
   "outputs": [
    {
     "name": "stdout",
     "output_type": "stream",
     "text": [
      "*** Process has started ***\n"
     ]
    }
   ],
   "source": [
    "#est.est_info(\"*** Process has started ***\")\n",
    "print(\"*** Process has started ***\")"
   ]
  },
  {
   "cell_type": "code",
   "execution_count": 135,
   "metadata": {},
   "outputs": [],
   "source": [
    "data = []\n",
    "with open(\"SN_Assignment_Groups.csv\", \"r\") as f:\n",
    "    readlines = f.readlines()\n",
    "    for line in readlines:\n",
    "        #lines.split(',')\n",
    "        data_parts = line.split(',')\n",
    "        #data_parts         \n",
    "    \n",
    "        sn_value = \",\".join(str(data_parts[:-1]))\n",
    "        #sn_value\n",
    "    \n",
    "        #cur_row = line.split(',')\n",
    "        #cur_row\n",
    "    \n",
    "    for cur_row in readlines:        \n",
    "        sn_value = \",\".join(str(data_parts[:-1]))\n",
    "        cur_row = line.split(',')\n",
    "        data.append([cur_row[-1], \",\".join(cur_row[:-1])])\n",
    "        "
   ]
  },
  {
   "cell_type": "code",
   "execution_count": 136,
   "metadata": {},
   "outputs": [],
   "source": [
    "df = pd.DataFrame(data, columns = ['SYSID', 'ASSIGNMENT_GROUP'])"
   ]
  },
  {
   "cell_type": "code",
   "execution_count": 137,
   "metadata": {},
   "outputs": [
    {
     "data": {
      "text/html": [
       "<div>\n",
       "<style scoped>\n",
       "    .dataframe tbody tr th:only-of-type {\n",
       "        vertical-align: middle;\n",
       "    }\n",
       "\n",
       "    .dataframe tbody tr th {\n",
       "        vertical-align: top;\n",
       "    }\n",
       "\n",
       "    .dataframe thead th {\n",
       "        text-align: right;\n",
       "    }\n",
       "</style>\n",
       "<table border=\"1\" class=\"dataframe\">\n",
       "  <thead>\n",
       "    <tr style=\"text-align: right;\">\n",
       "      <th></th>\n",
       "      <th>SYSID</th>\n",
       "      <th>ASSIGNMENT_GROUP</th>\n",
       "    </tr>\n",
       "  </thead>\n",
       "  <tbody>\n",
       "    <tr>\n",
       "      <th>0</th>\n",
       "      <td>\\n</td>\n",
       "      <td>Workplace Hosting,6ac2b62513722a0455c638128144...</td>\n",
       "    </tr>\n",
       "    <tr>\n",
       "      <th>1</th>\n",
       "      <td>\\n</td>\n",
       "      <td>Workplace Hosting,6ac2b62513722a0455c638128144...</td>\n",
       "    </tr>\n",
       "    <tr>\n",
       "      <th>2</th>\n",
       "      <td>\\n</td>\n",
       "      <td>Workplace Hosting,6ac2b62513722a0455c638128144...</td>\n",
       "    </tr>\n",
       "    <tr>\n",
       "      <th>3</th>\n",
       "      <td>\\n</td>\n",
       "      <td>Workplace Hosting,6ac2b62513722a0455c638128144...</td>\n",
       "    </tr>\n",
       "    <tr>\n",
       "      <th>4</th>\n",
       "      <td>\\n</td>\n",
       "      <td>Workplace Hosting,6ac2b62513722a0455c638128144...</td>\n",
       "    </tr>\n",
       "  </tbody>\n",
       "</table>\n",
       "</div>"
      ],
      "text/plain": [
       "  SYSID                                   ASSIGNMENT_GROUP\n",
       "0    \\n  Workplace Hosting,6ac2b62513722a0455c638128144...\n",
       "1    \\n  Workplace Hosting,6ac2b62513722a0455c638128144...\n",
       "2    \\n  Workplace Hosting,6ac2b62513722a0455c638128144...\n",
       "3    \\n  Workplace Hosting,6ac2b62513722a0455c638128144...\n",
       "4    \\n  Workplace Hosting,6ac2b62513722a0455c638128144..."
      ]
     },
     "execution_count": 137,
     "metadata": {},
     "output_type": "execute_result"
    }
   ],
   "source": [
    "df.to_csv('SN_Assignment_Groups_Updated.csv', index=False)\n",
    "df.head()"
   ]
  },
  {
   "cell_type": "code",
   "execution_count": null,
   "metadata": {},
   "outputs": [],
   "source": []
  }
 ],
 "metadata": {
  "kernelspec": {
   "display_name": "Python 3",
   "language": "python",
   "name": "python3"
  },
  "language_info": {
   "codemirror_mode": {
    "name": "ipython",
    "version": 3
   },
   "file_extension": ".py",
   "mimetype": "text/x-python",
   "name": "python",
   "nbconvert_exporter": "python",
   "pygments_lexer": "ipython3",
   "version": "3.7.0"
  }
 },
 "nbformat": 4,
 "nbformat_minor": 2
}
